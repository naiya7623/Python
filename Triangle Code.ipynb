{
 "cells": [
  {
   "cell_type": "code",
   "execution_count": 167,
   "id": "b93b4754",
   "metadata": {},
   "outputs": [],
   "source": [
    "import matplotlib.pyplot as plt\n",
    "from random import choice\n",
    "%matplotlib inline"
   ]
  },
  {
   "cell_type": "code",
   "execution_count": 197,
   "id": "3ddf04ac",
   "metadata": {},
   "outputs": [],
   "source": [
    "def trans_1(p):\n",
    "    x = p[0]\n",
    "    y = p[1]\n",
    "    x1 = 0.5 * x\n",
    "    y1 = 0.5 * y\n",
    "    return x1, y1\n",
    "\n",
    "def trans_2(p):\n",
    "    x = p[0]\n",
    "    y = p[1]\n",
    "    x1 = 0.5 * x + 0.5\n",
    "    y1 = 0.5 * y + 0.5\n",
    "    return x1, y1\n",
    "\n",
    "def trans_3(p):\n",
    "    x = p[0]\n",
    "    y = p[1]\n",
    "    x1 = 0.5 * x + 1\n",
    "    y1 = 0.5 * y  \n",
    "    return x1, y1\n",
    "\n",
    "transformations = [trans_1, trans_2, trans_3]\n",
    "a1 = [0]\n",
    "b1 = [0]\n",
    "a,b = 0,0\n",
    "\n",
    "for i in range(100000):\n",
    "    trans = choice(transformations)\n",
    "    a,b = trans((a,b))\n",
    "    a1.append(a)\n",
    "    b1.append(b)"
   ]
  },
  {
   "cell_type": "code",
   "execution_count": 198,
   "id": "e6abda6d",
   "metadata": {
    "scrolled": true
   },
   "outputs": [],
   "source": [
    "plt.rc('figure', figsize=(5,5))"
   ]
  },
  {
   "cell_type": "code",
   "execution_count": 199,
   "id": "51c6aa3e",
   "metadata": {},
   "outputs": [
    {
     "data": {
      "text/plain": [
       "[<matplotlib.lines.Line2D at 0x1e78a9bfe20>]"
      ]
     },
     "execution_count": 199,
     "metadata": {},
     "output_type": "execute_result"
    },
    {
     "data": {
      "image/png": "[encoded data removed]",
      "text/plain": [
       "<Figure size 360x360 with 1 Axes>"
      ]
     },
     "metadata": {
      "needs_background": "light"
     },
     "output_type": "display_data"
    }
   ],
   "source": [
    "plt.plot(a1, b1, 'o')"
   ]
  }
 ],
 "metadata": {
  "kernelspec": {
   "display_name": "Python 3 (ipykernel)",
   "language": "python",
   "name": "python3"
  },
  "language_info": {
   "codemirror_mode": {
    "name": "ipython",
    "version": 3
   },
   "file_extension": ".py",
   "mimetype": "text/x-python",
   "name": "python",
   "nbconvert_exporter": "python",
   "pygments_lexer": "ipython3",
   "version": "3.9.7"
  }
 },
 "nbformat": 4,
 "nbformat_minor": 5
}
